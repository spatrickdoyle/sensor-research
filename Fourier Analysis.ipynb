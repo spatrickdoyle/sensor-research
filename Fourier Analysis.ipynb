{
 "cells": [
  {
   "cell_type": "code",
   "execution_count": 163,
   "metadata": {
    "collapsed": false
   },
   "outputs": [
    {
     "name": "stdout",
     "output_type": "stream",
     "text": [
      "Populating the interactive namespace from numpy and matplotlib\n"
     ]
    },
    {
     "name": "stderr",
     "output_type": "stream",
     "text": [
      "WARNING: pylab import has clobbered these variables: ['colors', 'random']\n",
      "`%matplotlib` prevents importing * from pylab and numpy\n"
     ]
    }
   ],
   "source": [
    "%matplotlib inline\n",
    "%pylab inline\n",
    "pylab.rcParams['figure.figsize'] = (10, 10)\n",
    "\n",
    "import matplotlib.pyplot as plt\n",
    "import numpy as np\n",
    "import scipy\n",
    "from scipy.integrate import quad\n",
    "import random,glob,math\n",
    "\n",
    "PI = 3.1415926535\n",
    "E = 2.71828"
   ]
  },
  {
   "cell_type": "code",
   "execution_count": 83,
   "metadata": {
    "collapsed": true
   },
   "outputs": [],
   "source": [
    "def integrate(func, a, b, **kwargs):\n",
    "    def real_func(x):\n",
    "        return scipy.real(func(x))\n",
    "    def imag_func(x):\n",
    "        return scipy.imag(func(x))\n",
    "    real_integral = quad(real_func, a, b, **kwargs)\n",
    "    imag_integral = quad(imag_func, a, b, **kwargs)\n",
    "    return (real_integral[0] + 1j*imag_integral[0], real_integral[1:], imag_integral[1:])"
   ]
  },
  {
   "cell_type": "code",
   "execution_count": 20,
   "metadata": {
    "collapsed": false
   },
   "outputs": [],
   "source": [
    "capDataFiles = [open(i) for i in sorted(glob.glob(\"March22/air*cap.csv\"))]\n",
    "conDataFiles = [open(i) for i in sorted(glob.glob(\"March22/air*con.csv\"))]\n",
    "\n",
    "capData = [[float(i) for i in j.readline().split(',')] for j in capDataFiles]\n",
    "\n",
    "m = [len(i) for i in capData]\n",
    "X = [range(len(i)) for i in capData]\n",
    "Y = capData"
   ]
  },
  {
   "cell_type": "code",
   "execution_count": 21,
   "metadata": {
    "collapsed": true
   },
   "outputs": [],
   "source": [
    "step = lambda x: 0.0 if x < 0 else 1.0 if x > 0 else 0.5"
   ]
  },
  {
   "cell_type": "code",
   "execution_count": 55,
   "metadata": {
    "collapsed": false
   },
   "outputs": [],
   "source": [
    "T = [X[i][m[i]-1]-X[i][0] for i in range(len(X))]\n",
    "w = [(2*PI)/i for i in T]"
   ]
  },
  {
   "cell_type": "code",
   "execution_count": 146,
   "metadata": {
    "collapsed": false
   },
   "outputs": [
    {
     "name": "stdout",
     "output_type": "stream",
     "text": [
      "-0.0\n",
      "-0.0\n",
      "-0.0\n"
     ]
    }
   ],
   "source": [
    "f = lambda x: sum([ (((Y[j]-Y[j-1])/(X[j]-X[j-1]))*(x-X[j]) + Y[j])*step(-(x-X[j])*(x-X[j-1])) for j in range(1,m)])\n",
    "c = lambda n: (1/T)*integrate(lambda x: f(x)*(E**(-1j*n*w*x)), X[0], X[0]+T)[0]\n",
    "\n",
    "order = 3\n",
    "#Lists where each index represents a list of the same order coefficients\n",
    "coef_r = [[] for i in range(order)]\n",
    "coef_i = [[] for i in range(order)]\n",
    "mean_r = [0 for i in range(order)]\n",
    "mean_i = [0 for i in range(order)]\n",
    "sig_r = [0 for i in range(order)]\n",
    "sig_i = [0 for i in range(order)]\n",
    "gauss_r = [0 for i in range(order)]\n",
    "gauss_i = [0 for i in range(order)]\n",
    "\n",
    "for i in range(len(T)):\n",
    "    c_ = lambda n: -(1/(1j*n*w[i]*T[i]))*sum([\n",
    "        ((Y[i][j]-Y[i][j-1])/(X[i][j]-X[i][j-1]))*(X[i][j]*(E**(-1j*n*w[i]*X[i][j])) - X[i][j-1]*(E**(-1j*n*w[i]*X[i][j-1]))) + \\\n",
    "        (E**(-1j*n*w[i]*X[i][j]) - E**(-1j*n*w[i]*X[i][j-1]))*(Y[i][j]-((Y[i][j]-Y[i][j-1])/(X[i][j]-X[i][j-1]))*X[i][j]+(1/(1j*n*w[i]))*((Y[i][j]-Y[i][j-1])/(X[i][j]-X[i][j-1]))) \\\n",
    "        for j in range(1,m[i])])\n",
    "\n",
    "    for k in range(order):\n",
    "        cur = c_(k+1)\n",
    "        coef_r[k].append(scipy.real(cur).tolist())\n",
    "        coef_i[k].append(scipy.imag(cur).tolist())\n",
    "\n",
    "for k in range(order):\n",
    "    mean_r[k] = sum(coef_r[k])/len(coef_r[k])\n",
    "    mean_i[k] = sum(coef_i[k])/len(coef_i[k])\n",
    "    sig_r[k] = math.sqrt(sum([i**2 for i in coef_r[k]])/len(coef_r[k]) - (sum(coef_r[k])/len(coef_r[k]))**2)\n",
    "    sig_i[k] = math.sqrt(sum([i**2 for i in coef_i[k]])/len(coef_i[k]) - (sum(coef_i[k])/len(coef_i[k]))**2)\n",
    "    gauss_r[k] = lambda x: (1/(sig_r[k]*math.sqrt(2*PI)))*E*(-((x - mean_r[k])**2)/(2*(sig_r[k]**2)))\n",
    "\n",
    "#sig_first_r = math.sqrt(sum([i**2 for i in first_r])/len(first_r) - (sum(first_r)/len(first_r))**2)\n",
    "#sig_first_i = math.sqrt(sum([i**2 for i in first_i])/len(first_i) - (sum(first_i)/len(first_i))**2)\n",
    "#gauss_first_r = lambda x: (1/(sig_first_r*math.sqrt(2*PI)))*E*(-((x - first_r[-1])**2)/(2*(sig_first_r**2)))\n",
    "\n",
    "#print min(first_r[:-1]),max(first_r[:-1])\n",
    "print gauss_r[0](mean_r[2])\n",
    "print gauss_r[1](mean_r[2])\n",
    "print gauss_r[2](mean_r[2])"
   ]
  },
  {
   "cell_type": "code",
   "execution_count": 179,
   "metadata": {
    "collapsed": false
   },
   "outputs": [
    {
     "data": {
      "image/png": "[encoded data removed]",
      "text/plain": [
       "<matplotlib.figure.Figure at 0x7f828f87ce90>"
      ]
     },
     "metadata": {},
     "output_type": "display_data"
    }
   ],
   "source": [
    "d = 10.0**13\n",
    "\n",
    "plt.subplot(211)\n",
    "colors = ['#ff0000','#00ff00','#0000ff']\n",
    "for i in range(order):\n",
    "    plt.plot(coef_r[i],coef_i[i],'ro',color=colors[i])\n",
    "    plt.plot([mean_r[i]],[mean_i[i]],'rs',color=colors[i])\n",
    "\n",
    "    #plt.plot([j/d for j in range(-40,20)],[gauss_r[k](j/d) for j in range(-40,20)],'r-',color=colors[i])\n",
    "\n",
    "plt.subplot(212)\n",
    "for i in range(order):\n",
    "    plt.plot(np.random.normal(mean_r[i],sig_r[i],10),np.random.normal(mean_i[i],sig_i[i],10),'ro',color=colors[i])\n",
    "\n",
    "plt.show()"
   ]
  },
  {
   "cell_type": "code",
   "execution_count": 152,
   "metadata": {
    "collapsed": false
   },
   "outputs": [
    {
     "data": {
      "image/png": "[encoded data removed]",
      "text/plain": [
       "<matplotlib.figure.Figure at 0x7f828f433150>"
      ]
     },
     "metadata": {},
     "output_type": "display_data"
    }
   ],
   "source": [
    "plt.plot(first_r[:-1],first_i[:-1],'ro')\n",
    "plt.plot(first_r[-1:],first_i[-1:],'rs')\n",
    "plt.plot(second_r[:-1],second_i[:-1],'go')\n",
    "plt.plot(second_r[-1:],second_i[-1:],'gs')\n",
    "plt.plot(third_r[:-1],third_i[:-1],'bo')\n",
    "plt.plot(third_r[-1:],third_i[-1:],'bs')\n",
    "\n",
    "d = 10.0**12\n",
    "#plt.plot([i/d for i in range(-4,2)],[gauss_first_r(i/d) for i in range(-4,2)],'r-')\n",
    "\n",
    "plt.show()"
   ]
  },
  {
   "cell_type": "code",
   "execution_count": 153,
   "metadata": {
    "collapsed": false
   },
   "outputs": [],
   "source": [
    "g = lambda x: sum([ c(n)*(E**(1j*n*w*x)) for n in range(-5,6)])\n",
    "g_ = lambda x: sum([ c_(n)*(E**(1j*n*w*x)) for n in range(-30,0)]) + sum([ c_(n)*(E**(1j*n*w*x)) for n in range(1,31)])"
   ]
  },
  {
   "cell_type": "code",
   "execution_count": 200,
   "metadata": {
    "collapsed": false
   },
   "outputs": [
    {
     "data": {
      "image/png": "[encoded data removed]",
      "text/plain": [
       "<matplotlib.figure.Figure at 0x7f2ae7e3a950>"
      ]
     },
     "metadata": {},
     "output_type": "display_data"
    }
   ],
   "source": [
    "d = 2.0\n",
    "domain = [i/d for i in range(int(X[m-1]*d)+1)]\n",
    "plt.plot(domain,[f(i) for i in domain])\n",
    "#plt.plot(domain,[g(i) for i in domain],'r-')\n",
    "plt.plot(domain,[g_(i) for i in domain],'r-')\n",
    "#plt.plot(domain,[sum([ step1(n)*(E**(1j*n*w*i)) for n in range(-5,6)]) for i in domain],'g-')\n",
    "#plt.plot(domain,[sum([ step2(n)*(E**(1j*n*w*i)) for n in range(-5,6)]) for i in domain],'g-')\n",
    "plt.show()"
   ]
  }
 ],
 "metadata": {
  "kernelspec": {
   "display_name": "Python 2",
   "language": "python",
   "name": "python2"
  },
  "language_info": {
   "codemirror_mode": {
    "name": "ipython",
    "version": 2
   },
   "file_extension": ".py",
   "mimetype": "text/x-python",
   "name": "python",
   "nbconvert_exporter": "python",
   "pygments_lexer": "ipython2",
   "version": "2.7.13"
  }
 },
 "nbformat": 4,
 "nbformat_minor": 0
}
