{
 "cells": [
  {
   "cell_type": "code",
   "execution_count": 27,
   "metadata": {
    "collapsed": true
   },
   "outputs": [],
   "source": [
    "%matplotlib inline\n",
    "\n",
    "import matplotlib.pyplot as plt\n",
    "import numpy as np\n",
    "import scipy\n",
    "from scipy.integrate import quad\n",
    "import random,glob\n",
    "\n",
    "PI = 3.1415926535\n",
    "E = 2.71828"
   ]
  },
  {
   "cell_type": "code",
   "execution_count": 83,
   "metadata": {
    "collapsed": true
   },
   "outputs": [],
   "source": [
    "def integrate(func, a, b, **kwargs):\n",
    "    def real_func(x):\n",
    "        return scipy.real(func(x))\n",
    "    def imag_func(x):\n",
    "        return scipy.imag(func(x))\n",
    "    real_integral = quad(real_func, a, b, **kwargs)\n",
    "    imag_integral = quad(imag_func, a, b, **kwargs)\n",
    "    return (real_integral[0] + 1j*imag_integral[0], real_integral[1:], imag_integral[1:])"
   ]
  },
  {
   "cell_type": "code",
   "execution_count": 20,
   "metadata": {
    "collapsed": false
   },
   "outputs": [],
   "source": [
    "capDataFiles = [open(i) for i in sorted(glob.glob(\"March22/air*cap.csv\"))]\n",
    "conDataFiles = [open(i) for i in sorted(glob.glob(\"March22/air*con.csv\"))]\n",
    "\n",
    "capData = [[float(i) for i in j.readline().split(',')] for j in capDataFiles]\n",
    "\n",
    "m = [len(i) for i in capData]\n",
    "X = [range(len(i)) for i in capData]\n",
    "Y = capData"
   ]
  },
  {
   "cell_type": "code",
   "execution_count": 21,
   "metadata": {
    "collapsed": true
   },
   "outputs": [],
   "source": [
    "step = lambda x: 0.0 if x < 0 else 1.0 if x > 0 else 0.5"
   ]
  },
  {
   "cell_type": "code",
   "execution_count": 22,
   "metadata": {
    "collapsed": false
   },
   "outputs": [],
   "source": [
    "T = [X[i][m[i]-1]-X[i][0] for i in range(len(X))]\n",
    "w = [(2*PI)/i for i in T]"
   ]
  },
  {
   "cell_type": "code",
   "execution_count": 29,
   "metadata": {
    "collapsed": false
   },
   "outputs": [
    {
     "name": "stdout",
     "output_type": "stream",
     "text": [
      "[array(6.970248050017778e-13), array(-3.1481812833872785e-12), array(-1.301181690463291e-13), array(-1.6687314872430438e-13), array(-9.887510417558382e-13), array(-5.377816422181976e-13), array(2.322491595955923e-13), array(-3.1359135632689246e-13), array(-1.1945537728378702e-12), array(-5.969664909151841e-13)]\n",
      "[array(7.87918735338593e-13), array(2.12572517941966e-12), array(1.0256653975550599e-12), array(1.0465448788273167e-12), array(1.3890052628787417e-12), array(1.022326089698082e-12), array(8.290535991810126e-13), array(1.1370470014157765e-12), array(1.367195550444827e-12), array(1.4195154160870055e-12)]\n"
     ]
    }
   ],
   "source": [
    "f = lambda x: sum([ (((Y[j]-Y[j-1])/(X[j]-X[j-1]))*(x-X[j]) + Y[j])*step(-(x-X[j])*(x-X[j-1])) for j in range(1,m)])\n",
    "c = lambda n: (1/T)*integrate(lambda x: f(x)*(E**(-1j*n*w*x)), X[0], X[0]+T)[0]\n",
    "\n",
    "first_r = []\n",
    "first_i = []\n",
    "\n",
    "for i in range(len(T)):\n",
    "    c_ = lambda n: -(1/(1j*n*w[i]*T[i]))*sum([\n",
    "        ((Y[i][j]-Y[i][j-1])/(X[i][j]-X[i][j-1]))*(X[i][j]*(E**(-1j*n*w[i]*X[i][j])) - X[i][j-1]*(E**(-1j*n*w[i]*X[i][j-1]))) + \\\n",
    "        (E**(-1j*n*w[i]*X[i][j]) - E**(-1j*n*w[i]*X[i][j-1]))*(Y[i][j]-((Y[i][j]-Y[i][j-1])/(X[i][j]-X[i][j-1]))*X[i][j]+(1/(1j*n*w[i]))*((Y[i][j]-Y[i][j-1])/(X[i][j]-X[i][j-1]))) \\\n",
    "        for j in range(1,m[i])])\n",
    "\n",
    "    cur = c_(1)\n",
    "    first_i.append(scipy.imag(cur))\n",
    "\n",
    "print first_r\n",
    "print first_i"
   ]
  },
  {
   "cell_type": "code",
   "execution_count": null,
   "metadata": {
    "collapsed": true
   },
   "outputs": [],
   "source": []
  },
  {
   "cell_type": "code",
   "execution_count": 199,
   "metadata": {
    "collapsed": false
   },
   "outputs": [],
   "source": [
    "g = lambda x: sum([ c(n)*(E**(1j*n*w*x)) for n in range(-5,6)])\n",
    "g_ = lambda x: sum([ c_(n)*(E**(1j*n*w*x)) for n in range(-30,0)]) + sum([ c_(n)*(E**(1j*n*w*x)) for n in range(1,31)])"
   ]
  },
  {
   "cell_type": "code",
   "execution_count": 200,
   "metadata": {
    "collapsed": false
   },
   "outputs": [
    {
     "data": {
      "image/png": "[encoded data removed]",
      "text/plain": [
       "<matplotlib.figure.Figure at 0x7f2ae7e3a950>"
      ]
     },
     "metadata": {},
     "output_type": "display_data"
    }
   ],
   "source": [
    "d = 2.0\n",
    "domain = [i/d for i in range(int(X[m-1]*d)+1)]\n",
    "plt.plot(domain,[f(i) for i in domain])\n",
    "#plt.plot(domain,[g(i) for i in domain],'r-')\n",
    "plt.plot(domain,[g_(i) for i in domain],'r-')\n",
    "#plt.plot(domain,[sum([ step1(n)*(E**(1j*n*w*i)) for n in range(-5,6)]) for i in domain],'g-')\n",
    "#plt.plot(domain,[sum([ step2(n)*(E**(1j*n*w*i)) for n in range(-5,6)]) for i in domain],'g-')\n",
    "plt.show()"
   ]
  }
 ],
 "metadata": {
  "kernelspec": {
   "display_name": "Python 2",
   "language": "python",
   "name": "python2"
  },
  "language_info": {
   "codemirror_mode": {
    "name": "ipython",
    "version": 2
   },
   "file_extension": ".py",
   "mimetype": "text/x-python",
   "name": "python",
   "nbconvert_exporter": "python",
   "pygments_lexer": "ipython2",
   "version": "2.7.13"
  }
 },
 "nbformat": 4,
 "nbformat_minor": 0
}
